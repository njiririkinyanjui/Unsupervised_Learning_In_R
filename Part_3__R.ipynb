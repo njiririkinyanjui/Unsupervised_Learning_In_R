{
  "nbformat": 4,
  "nbformat_minor": 0,
  "metadata": {
    "kernelspec": {
      "display_name": "R",
      "language": "R",
      "name": "ir"
    },
    "language_info": {
      "codemirror_mode": "r",
      "file_extension": ".r",
      "mimetype": "text/x-r-source",
      "name": "R",
      "pygments_lexer": "r",
      "version": "4.0.3"
    },
    "colab": {
      "name": "Part_3_ R.ipynb",
      "provenance": [],
      "include_colab_link": true
    }
  },
  "cells": [
    {
      "cell_type": "markdown",
      "metadata": {
        "id": "view-in-github",
        "colab_type": "text"
      },
      "source": [
        "<a href=\"https://colab.research.google.com/github/njiririkinyanjui/Unsupervised_Learning_In_R/blob/main/Part_3__R.ipynb\" target=\"_parent\"><img src=\"https://colab.research.google.com/assets/colab-badge.svg\" alt=\"Open In Colab\"/></a>"
      ]
    },
    {
      "cell_type": "markdown",
      "metadata": {
        "id": "gGstnajtVPZH"
      },
      "source": [
        "# Research Question"
      ]
    },
    {
      "cell_type": "markdown",
      "metadata": {
        "id": "l45YD0aK5JLO"
      },
      "source": [
        "* You are a Data analyst at Carrefour Kenya and are currently undertaking a project that will inform the marketing department on the most relevant marketing strategies that will result in the highest no. of sales (total price including tax).\n",
        "* Performing  Association Rules in the marketing dataset and later providing recommendations based on your insights. The association rules will allow one to identify relationships between variables in the dataset"
      ]
    },
    {
      "cell_type": "markdown",
      "metadata": {
        "id": "IJyYFsjcVv8W"
      },
      "source": [
        "* Loading the Data\n",
        "* Association Rules"
      ]
    },
    {
      "cell_type": "markdown",
      "metadata": {
        "id": "_VPyB_zACWdo"
      },
      "source": [
        "# Loading the libraries and Dataset"
      ]
    },
    {
      "cell_type": "markdown",
      "metadata": {
        "id": "KSyN20KVli1B"
      },
      "source": [
        "## Loading the Libraries"
      ]
    },
    {
      "cell_type": "code",
      "metadata": {
        "id": "PYWB6Cmi5Sqy",
        "outputId": "d3473a51-416c-4e31-f9c5-db59b7ff029e",
        "colab": {
          "base_uri": "https://localhost:8080/"
        }
      },
      "source": [
        "# Importing the libraries\n",
        "\n",
        "library(tidyverse)\n",
        "\n",
        "# We install the required arules library \n",
        "\n",
        "install.packages(\"arules\")\n",
        "\n",
        "# Loading the arules library\n",
        "#\n",
        "library(arules)\n"
      ],
      "execution_count": 1,
      "outputs": [
        {
          "output_type": "stream",
          "text": [
            "── \u001b[1mAttaching packages\u001b[22m ─────────────────────────────────────── tidyverse 1.3.0 ──\n",
            "\n",
            "\u001b[32m✔\u001b[39m \u001b[34mggplot2\u001b[39m 3.3.2     \u001b[32m✔\u001b[39m \u001b[34mpurrr  \u001b[39m 0.3.4\n",
            "\u001b[32m✔\u001b[39m \u001b[34mtibble \u001b[39m 3.0.4     \u001b[32m✔\u001b[39m \u001b[34mdplyr  \u001b[39m 1.0.2\n",
            "\u001b[32m✔\u001b[39m \u001b[34mtidyr  \u001b[39m 1.1.2     \u001b[32m✔\u001b[39m \u001b[34mstringr\u001b[39m 1.4.0\n",
            "\u001b[32m✔\u001b[39m \u001b[34mreadr  \u001b[39m 1.4.0     \u001b[32m✔\u001b[39m \u001b[34mforcats\u001b[39m 0.5.0\n",
            "\n",
            "── \u001b[1mConflicts\u001b[22m ────────────────────────────────────────── tidyverse_conflicts() ──\n",
            "\u001b[31m✖\u001b[39m \u001b[34mdplyr\u001b[39m::\u001b[32mfilter()\u001b[39m masks \u001b[34mstats\u001b[39m::filter()\n",
            "\u001b[31m✖\u001b[39m \u001b[34mdplyr\u001b[39m::\u001b[32mlag()\u001b[39m    masks \u001b[34mstats\u001b[39m::lag()\n",
            "\n",
            "Installing package into ‘/usr/local/lib/R/site-library’\n",
            "(as ‘lib’ is unspecified)\n",
            "\n",
            "Loading required package: Matrix\n",
            "\n",
            "\n",
            "Attaching package: ‘Matrix’\n",
            "\n",
            "\n",
            "The following objects are masked from ‘package:tidyr’:\n",
            "\n",
            "    expand, pack, unpack\n",
            "\n",
            "\n",
            "\n",
            "Attaching package: ‘arules’\n",
            "\n",
            "\n",
            "The following object is masked from ‘package:dplyr’:\n",
            "\n",
            "    recode\n",
            "\n",
            "\n",
            "The following objects are masked from ‘package:base’:\n",
            "\n",
            "    abbreviate, write\n",
            "\n",
            "\n"
          ],
          "name": "stderr"
        }
      ]
    },
    {
      "cell_type": "markdown",
      "metadata": {
        "id": "7SvOa1Rwln7w"
      },
      "source": [
        "## Data loading"
      ]
    },
    {
      "cell_type": "code",
      "metadata": {
        "id": "C4d_Zyp75ixF",
        "outputId": "b1ccd38a-b00f-45d0-a107-a9699a44c59e",
        "colab": {
          "base_uri": "https://localhost:8080/",
          "height": 104
        }
      },
      "source": [
        "# Loading the data\n",
        "path <-\"http://bit.ly/SupermarketDatasetII\"\n",
        "\n",
        "Supermarket_dt <- read.transactions(path, sep = \",\")\n",
        "\n",
        "Supermarket_dt"
      ],
      "execution_count": 2,
      "outputs": [
        {
          "output_type": "stream",
          "text": [
            "Warning message in asMethod(object):\n",
            "“removing duplicated items in transactions”\n"
          ],
          "name": "stderr"
        },
        {
          "output_type": "display_data",
          "data": {
            "text/plain": [
              "transactions in sparse format with\n",
              " 7501 transactions (rows) and\n",
              " 119 items (columns)"
            ]
          },
          "metadata": {
            "tags": []
          }
        }
      ]
    },
    {
      "cell_type": "code",
      "metadata": {
        "id": "wfpZTFGl7EJg",
        "outputId": "8d7a40b8-caf5-4e7f-b7fb-1df00fef9a4f",
        "colab": {
          "base_uri": "https://localhost:8080/",
          "height": 34
        }
      },
      "source": [
        "# Understanding the shape of the dataset \n",
        "\n",
        "dim(Supermarket_dt)\n"
      ],
      "execution_count": 3,
      "outputs": [
        {
          "output_type": "display_data",
          "data": {
            "text/plain": [
              "[1] 7501  119"
            ],
            "text/latex": "\\begin{enumerate*}\n\\item 7501\n\\item 119\n\\end{enumerate*}\n",
            "text/markdown": "1. 7501\n2. 119\n\n\n",
            "text/html": [
              "<style>\n",
              ".list-inline {list-style: none; margin:0; padding: 0}\n",
              ".list-inline>li {display: inline-block}\n",
              ".list-inline>li:not(:last-child)::after {content: \"\\00b7\"; padding: 0 .5ex}\n",
              "</style>\n",
              "<ol class=list-inline><li>7501</li><li>119</li></ol>\n"
            ]
          },
          "metadata": {
            "tags": []
          }
        }
      ]
    },
    {
      "cell_type": "markdown",
      "metadata": {
        "id": "RXxe6mjbyxX1"
      },
      "source": [
        "# Associative rules"
      ]
    },
    {
      "cell_type": "code",
      "metadata": {
        "id": "8TkX5aU3zmpR",
        "outputId": "2a86bb7f-e845-4844-a146-2931bf0a5f96",
        "colab": {
          "base_uri": "https://localhost:8080/",
          "height": 34
        }
      },
      "source": [
        "# Verifying the object's class\n",
        "# This should show us transactions as the type of data that we will need\n",
        "\n",
        "class(Supermarket_dt)"
      ],
      "execution_count": 4,
      "outputs": [
        {
          "output_type": "display_data",
          "data": {
            "text/plain": [
              "[1] \"transactions\"\n",
              "attr(,\"package\")\n",
              "[1] \"arules\""
            ],
            "text/latex": "'transactions'",
            "text/markdown": "'transactions'",
            "text/html": [
              "'transactions'"
            ]
          },
          "metadata": {
            "tags": []
          }
        }
      ]
    },
    {
      "cell_type": "code",
      "metadata": {
        "id": "P5WAwScrzqWn",
        "outputId": "3fd957f9-f46f-4846-b05a-6da66ccf254a",
        "colab": {
          "base_uri": "https://localhost:8080/"
        }
      },
      "source": [
        "# Previewing our first 5 Supermarket_dt dataset\n",
        "#\n",
        "inspect(Supermarket_dt[1:5])\n",
        "\n",
        "# Combinations of the first five most purchased items"
      ],
      "execution_count": 5,
      "outputs": [
        {
          "output_type": "stream",
          "text": [
            "    items              \n",
            "[1] {almonds,          \n",
            "     antioxydant juice,\n",
            "     avocado,          \n",
            "     cottage cheese,   \n",
            "     energy drink,     \n",
            "     frozen smoothie,  \n",
            "     green grapes,     \n",
            "     green tea,        \n",
            "     honey,            \n",
            "     low fat yogurt,   \n",
            "     mineral water,    \n",
            "     olive oil,        \n",
            "     salad,            \n",
            "     salmon,           \n",
            "     shrimp,           \n",
            "     spinach,          \n",
            "     tomato juice,     \n",
            "     vegetables mix,   \n",
            "     whole weat flour, \n",
            "     yams}             \n",
            "[2] {burgers,          \n",
            "     eggs,             \n",
            "     meatballs}        \n",
            "[3] {chutney}          \n",
            "[4] {avocado,          \n",
            "     turkey}           \n",
            "[5] {energy bar,       \n",
            "     green tea,        \n",
            "     milk,             \n",
            "     mineral water,    \n",
            "     whole wheat rice} \n"
          ],
          "name": "stdout"
        }
      ]
    },
    {
      "cell_type": "code",
      "metadata": {
        "id": "fBsgKqk_zuDl",
        "outputId": "239936d0-03b5-4968-8b05-7e27cd015f31",
        "colab": {
          "base_uri": "https://localhost:8080/",
          "height": 260
        }
      },
      "source": [
        "# If we wanted to preview the items that make up our dataset,\n",
        "# alternatively we can do the following\n",
        "# \n",
        "\n",
        "items <- as.data.frame(itemLabels(Supermarket_dt))\n",
        "colnames(items) <- \"Item\"\n",
        "head(items, 10) \n",
        "\n",
        "# Top 10 items in the dataset"
      ],
      "execution_count": 6,
      "outputs": [
        {
          "output_type": "display_data",
          "data": {
            "text/plain": [
              "   Item             \n",
              "1  almonds          \n",
              "2  antioxydant juice\n",
              "3  asparagus        \n",
              "4  avocado          \n",
              "5  babies food      \n",
              "6  bacon            \n",
              "7  barbecue sauce   \n",
              "8  black tea        \n",
              "9  blueberries      \n",
              "10 body spray       "
            ],
            "text/latex": "A data.frame: 10 × 1\n\\begin{tabular}{r|l}\n  & Item\\\\\n  & <chr>\\\\\n\\hline\n\t1 & almonds          \\\\\n\t2 & antioxydant juice\\\\\n\t3 & asparagus        \\\\\n\t4 & avocado          \\\\\n\t5 & babies food      \\\\\n\t6 & bacon            \\\\\n\t7 & barbecue sauce   \\\\\n\t8 & black tea        \\\\\n\t9 & blueberries      \\\\\n\t10 & body spray       \\\\\n\\end{tabular}\n",
            "text/markdown": "\nA data.frame: 10 × 1\n\n| <!--/--> | Item &lt;chr&gt; |\n|---|---|\n| 1 | almonds           |\n| 2 | antioxydant juice |\n| 3 | asparagus         |\n| 4 | avocado           |\n| 5 | babies food       |\n| 6 | bacon             |\n| 7 | barbecue sauce    |\n| 8 | black tea         |\n| 9 | blueberries       |\n| 10 | body spray        |\n\n",
            "text/html": [
              "<table>\n",
              "<caption>A data.frame: 10 × 1</caption>\n",
              "<thead>\n",
              "\t<tr><th></th><th scope=col>Item</th></tr>\n",
              "\t<tr><th></th><th scope=col>&lt;chr&gt;</th></tr>\n",
              "</thead>\n",
              "<tbody>\n",
              "\t<tr><th scope=row>1</th><td>almonds          </td></tr>\n",
              "\t<tr><th scope=row>2</th><td>antioxydant juice</td></tr>\n",
              "\t<tr><th scope=row>3</th><td>asparagus        </td></tr>\n",
              "\t<tr><th scope=row>4</th><td>avocado          </td></tr>\n",
              "\t<tr><th scope=row>5</th><td>babies food      </td></tr>\n",
              "\t<tr><th scope=row>6</th><td>bacon            </td></tr>\n",
              "\t<tr><th scope=row>7</th><td>barbecue sauce   </td></tr>\n",
              "\t<tr><th scope=row>8</th><td>black tea        </td></tr>\n",
              "\t<tr><th scope=row>9</th><td>blueberries      </td></tr>\n",
              "\t<tr><th scope=row>10</th><td>body spray       </td></tr>\n",
              "</tbody>\n",
              "</table>\n"
            ]
          },
          "metadata": {
            "tags": []
          }
        }
      ]
    },
    {
      "cell_type": "code",
      "metadata": {
        "id": "ze2Tr6cczyv1",
        "outputId": "56a6b50d-2b2e-45b8-fe23-a9ee6798f4a1",
        "colab": {
          "base_uri": "https://localhost:8080/",
          "height": 450
        }
      },
      "source": [
        "# Generating a summary of the Supermarket dataset\n",
        "# This would give us some information such as the most purchased items, \n",
        "# distribution of the item sets (no. of items purchased in each transaction), etc.\n",
        "# \n",
        "summary(Supermarket_dt)"
      ],
      "execution_count": 7,
      "outputs": [
        {
          "output_type": "display_data",
          "data": {
            "text/plain": [
              "transactions as itemMatrix in sparse format with\n",
              " 7501 rows (elements/itemsets/transactions) and\n",
              " 119 columns (items) and a density of 0.03288973 \n",
              "\n",
              "most frequent items:\n",
              "mineral water          eggs     spaghetti  french fries     chocolate \n",
              "         1788          1348          1306          1282          1229 \n",
              "      (Other) \n",
              "        22405 \n",
              "\n",
              "element (itemset/transaction) length distribution:\n",
              "sizes\n",
              "   1    2    3    4    5    6    7    8    9   10   11   12   13   14   15   16 \n",
              "1754 1358 1044  816  667  493  391  324  259  139  102   67   40   22   17    4 \n",
              "  18   19   20 \n",
              "   1    2    1 \n",
              "\n",
              "   Min. 1st Qu.  Median    Mean 3rd Qu.    Max. \n",
              "  1.000   2.000   3.000   3.914   5.000  20.000 \n",
              "\n",
              "includes extended item information - examples:\n",
              "             labels\n",
              "1           almonds\n",
              "2 antioxydant juice\n",
              "3         asparagus"
            ]
          },
          "metadata": {
            "tags": []
          }
        }
      ]
    },
    {
      "cell_type": "code",
      "metadata": {
        "id": "4T_Fdunoz3R4",
        "outputId": "25d50c22-d1b3-4803-cb6a-f119c7d6f5fc",
        "colab": {
          "base_uri": "https://localhost:8080/",
          "height": 52
        }
      },
      "source": [
        "# Exploring the frequency of some articles \n",
        "# i.e. transacations ranging from 8 to 10 and performing \n",
        "# some operation in percentage terms of the total transactions \n",
        "\n",
        "itemFrequency(Supermarket_dt[, 8:10],type = \"absolute\")\n",
        "round(itemFrequency(Supermarket_dt[, 8:10],type = \"relative\")*100,2)"
      ],
      "execution_count": 8,
      "outputs": [
        {
          "output_type": "display_data",
          "data": {
            "text/plain": [
              "  black tea blueberries  body spray \n",
              "        107          69          86 "
            ],
            "text/latex": "\\begin{description*}\n\\item[black tea] 107\n\\item[blueberries] 69\n\\item[body spray] 86\n\\end{description*}\n",
            "text/markdown": "black tea\n:   107blueberries\n:   69body spray\n:   86\n\n",
            "text/html": [
              "<style>\n",
              ".dl-inline {width: auto; margin:0; padding: 0}\n",
              ".dl-inline>dt, .dl-inline>dd {float: none; width: auto; display: inline-block}\n",
              ".dl-inline>dt::after {content: \":\\0020\"; padding-right: .5ex}\n",
              ".dl-inline>dt:not(:first-of-type) {padding-left: .5ex}\n",
              "</style><dl class=dl-inline><dt>black tea</dt><dd>107</dd><dt>blueberries</dt><dd>69</dd><dt>body spray</dt><dd>86</dd></dl>\n"
            ]
          },
          "metadata": {
            "tags": []
          }
        },
        {
          "output_type": "display_data",
          "data": {
            "text/plain": [
              "  black tea blueberries  body spray \n",
              "       1.43        0.92        1.15 "
            ],
            "text/latex": "\\begin{description*}\n\\item[black tea] 1.43\n\\item[blueberries] 0.92\n\\item[body spray] 1.15\n\\end{description*}\n",
            "text/markdown": "black tea\n:   1.43blueberries\n:   0.92body spray\n:   1.15\n\n",
            "text/html": [
              "<style>\n",
              ".dl-inline {width: auto; margin:0; padding: 0}\n",
              ".dl-inline>dt, .dl-inline>dd {float: none; width: auto; display: inline-block}\n",
              ".dl-inline>dt::after {content: \":\\0020\"; padding-right: .5ex}\n",
              ".dl-inline>dt:not(:first-of-type) {padding-left: .5ex}\n",
              "</style><dl class=dl-inline><dt>black tea</dt><dd>1.43</dd><dt>blueberries</dt><dd>0.92</dd><dt>body spray</dt><dd>1.15</dd></dl>\n"
            ]
          },
          "metadata": {
            "tags": []
          }
        }
      ]
    },
    {
      "cell_type": "code",
      "metadata": {
        "id": "e7KdTfW047L4",
        "outputId": "e1f29bb5-eaaa-4b6d-f360-4fe5006c5e58",
        "colab": {
          "base_uri": "https://localhost:8080/",
          "height": 52
        }
      },
      "source": [
        "# Exploring the frequency of some articles \n",
        "# i.e. transacations ranging from 15 to 25 and performing \n",
        "# some operation in percentage terms of the total transactions \n",
        "\n",
        "itemFrequency(Supermarket_dt[, 15:25],type = \"absolute\")\n",
        "round(itemFrequency(Supermarket_dt[, 15:25],type = \"relative\")*100,2)"
      ],
      "execution_count": 9,
      "outputs": [
        {
          "output_type": "display_data",
          "data": {
            "text/plain": [
              "    burgers      butter        cake  candy bars     carrots cauliflower \n",
              "        654         226         608          73         115          36 \n",
              "    cereals   champagne     chicken       chili   chocolate \n",
              "        193         351         450          46        1229 "
            ],
            "text/latex": "\\begin{description*}\n\\item[burgers] 654\n\\item[butter] 226\n\\item[cake] 608\n\\item[candy bars] 73\n\\item[carrots] 115\n\\item[cauliflower] 36\n\\item[cereals] 193\n\\item[champagne] 351\n\\item[chicken] 450\n\\item[chili] 46\n\\item[chocolate] 1229\n\\end{description*}\n",
            "text/markdown": "burgers\n:   654butter\n:   226cake\n:   608candy bars\n:   73carrots\n:   115cauliflower\n:   36cereals\n:   193champagne\n:   351chicken\n:   450chili\n:   46chocolate\n:   1229\n\n",
            "text/html": [
              "<style>\n",
              ".dl-inline {width: auto; margin:0; padding: 0}\n",
              ".dl-inline>dt, .dl-inline>dd {float: none; width: auto; display: inline-block}\n",
              ".dl-inline>dt::after {content: \":\\0020\"; padding-right: .5ex}\n",
              ".dl-inline>dt:not(:first-of-type) {padding-left: .5ex}\n",
              "</style><dl class=dl-inline><dt>burgers</dt><dd>654</dd><dt>butter</dt><dd>226</dd><dt>cake</dt><dd>608</dd><dt>candy bars</dt><dd>73</dd><dt>carrots</dt><dd>115</dd><dt>cauliflower</dt><dd>36</dd><dt>cereals</dt><dd>193</dd><dt>champagne</dt><dd>351</dd><dt>chicken</dt><dd>450</dd><dt>chili</dt><dd>46</dd><dt>chocolate</dt><dd>1229</dd></dl>\n"
            ]
          },
          "metadata": {
            "tags": []
          }
        },
        {
          "output_type": "display_data",
          "data": {
            "text/plain": [
              "    burgers      butter        cake  candy bars     carrots cauliflower \n",
              "       8.72        3.01        8.11        0.97        1.53        0.48 \n",
              "    cereals   champagne     chicken       chili   chocolate \n",
              "       2.57        4.68        6.00        0.61       16.38 "
            ],
            "text/latex": "\\begin{description*}\n\\item[burgers] 8.72\n\\item[butter] 3.01\n\\item[cake] 8.11\n\\item[candy bars] 0.97\n\\item[carrots] 1.53\n\\item[cauliflower] 0.48\n\\item[cereals] 2.57\n\\item[champagne] 4.68\n\\item[chicken] 6\n\\item[chili] 0.61\n\\item[chocolate] 16.38\n\\end{description*}\n",
            "text/markdown": "burgers\n:   8.72butter\n:   3.01cake\n:   8.11candy bars\n:   0.97carrots\n:   1.53cauliflower\n:   0.48cereals\n:   2.57champagne\n:   4.68chicken\n:   6chili\n:   0.61chocolate\n:   16.38\n\n",
            "text/html": [
              "<style>\n",
              ".dl-inline {width: auto; margin:0; padding: 0}\n",
              ".dl-inline>dt, .dl-inline>dd {float: none; width: auto; display: inline-block}\n",
              ".dl-inline>dt::after {content: \":\\0020\"; padding-right: .5ex}\n",
              ".dl-inline>dt:not(:first-of-type) {padding-left: .5ex}\n",
              "</style><dl class=dl-inline><dt>burgers</dt><dd>8.72</dd><dt>butter</dt><dd>3.01</dd><dt>cake</dt><dd>8.11</dd><dt>candy bars</dt><dd>0.97</dd><dt>carrots</dt><dd>1.53</dd><dt>cauliflower</dt><dd>0.48</dd><dt>cereals</dt><dd>2.57</dd><dt>champagne</dt><dd>4.68</dd><dt>chicken</dt><dd>6</dd><dt>chili</dt><dd>0.61</dd><dt>chocolate</dt><dd>16.38</dd></dl>\n"
            ]
          },
          "metadata": {
            "tags": []
          }
        }
      ]
    },
    {
      "cell_type": "code",
      "metadata": {
        "id": "MKeesz0Oz6ww"
      },
      "source": [
        "# Producing a chart of frequencies and filtering \n",
        "# to consider only items with a minimum percentage \n",
        "# of support / considering a top 10 of items\n",
        "# Displaying top 10 most common items in the transactions dataset \n",
        "# and the items whose relative importance is at least 10%\n",
        "# \n",
        "par(mfrow = c(1, 2))"
      ],
      "execution_count": 10,
      "outputs": []
    },
    {
      "cell_type": "code",
      "metadata": {
        "id": "IAIWX13Lz-WR",
        "outputId": "b434c4c4-6c19-4764-f63f-d7e74a5e12a0",
        "colab": {
          "base_uri": "https://localhost:8080/",
          "height": 857
        }
      },
      "source": [
        "# plot the frequency of items\n",
        "#\n",
        "itemFrequencyPlot(Supermarket_dt, topN = 10,col=\"pink\")\n",
        "itemFrequencyPlot(Supermarket_dt, support = 0.1,col=\"blue\")"
      ],
      "execution_count": 11,
      "outputs": [
        {
          "output_type": "display_data",
          "data": {
            "image/png": "[encoded data removed]",
            "text/plain": [
              "plot without title"
            ]
          },
          "metadata": {
            "tags": [],
            "image/png": {
              "width": 420,
              "height": 420
            }
          }
        },
        {
          "output_type": "display_data",
          "data": {
            "image/png": "[encoded data removed]",
            "text/plain": [
              "plot without title"
            ]
          },
          "metadata": {
            "tags": [],
            "image/png": {
              "width": 420,
              "height": 420
            }
          }
        }
      ]
    },
    {
      "cell_type": "code",
      "metadata": {
        "id": "KzRgRo1p0DWO",
        "outputId": "dfc77dc2-92cc-45c9-c198-62cdc02c4d27",
        "colab": {
          "base_uri": "https://localhost:8080/",
          "height": 398
        }
      },
      "source": [
        "# Building a model based on association rules \n",
        "# using the apriori function \n",
        "# We use Min Support as 0.001 and confidence as 0.8\n",
        "# \n",
        "rules <- apriori (Supermarket_dt, parameter = list(supp = 0.001, conf = 0.8))\n",
        "rules"
      ],
      "execution_count": 12,
      "outputs": [
        {
          "output_type": "stream",
          "text": [
            "Apriori\n",
            "\n",
            "Parameter specification:\n",
            " confidence minval smax arem  aval originalSupport maxtime support minlen\n",
            "        0.8    0.1    1 none FALSE            TRUE       5   0.001      1\n",
            " maxlen target  ext\n",
            "     10  rules TRUE\n",
            "\n",
            "Algorithmic control:\n",
            " filter tree heap memopt load sort verbose\n",
            "    0.1 TRUE TRUE  FALSE TRUE    2    TRUE\n",
            "\n",
            "Absolute minimum support count: 7 \n",
            "\n",
            "set item appearances ...[0 item(s)] done [0.00s].\n",
            "set transactions ...[119 item(s), 7501 transaction(s)] done [0.00s].\n",
            "sorting and recoding items ... [116 item(s)] done [0.00s].\n",
            "creating transaction tree ... done [0.00s].\n",
            "checking subsets of size 1 2 3 4 5 6 done [0.01s].\n",
            "writing ... [74 rule(s)] done [0.00s].\n",
            "creating S4 object  ... done [0.00s].\n"
          ],
          "name": "stdout"
        },
        {
          "output_type": "display_data",
          "data": {
            "text/plain": [
              "set of 74 rules "
            ]
          },
          "metadata": {
            "tags": []
          }
        }
      ]
    },
    {
      "cell_type": "code",
      "metadata": {
        "id": "lX4pPq8Y0HgX",
        "outputId": "9f42e142-36ec-4f3f-d83d-5f891a5f98ff",
        "colab": {
          "base_uri": "https://localhost:8080/",
          "height": 398
        }
      },
      "source": [
        "# We use measures of significance and interest on the rules, \n",
        "# determining which ones are interesting and which to discard.\n",
        "\n",
        "# However since we built the model using 0.001 Min support \n",
        "# and confidence as 0.8 we obtained 74 rules.\n",
        "# With a support of 0.002 the set rules reduced to 2.\n",
        "\n",
        "# However, in order to illustrate the sensitivity of the model to these two parameters, \n",
        "# we will see what happens if we increase the support or lower the confidence level\n",
        "\n",
        "# Building a apriori model with Min Support as 0.002 and confidence as 0.8.\n",
        "rules2 <- apriori (Supermarket_dt,parameter = list(supp = 0.002, conf = 0.8)) \n",
        "\n",
        "rules2"
      ],
      "execution_count": 13,
      "outputs": [
        {
          "output_type": "stream",
          "text": [
            "Apriori\n",
            "\n",
            "Parameter specification:\n",
            " confidence minval smax arem  aval originalSupport maxtime support minlen\n",
            "        0.8    0.1    1 none FALSE            TRUE       5   0.002      1\n",
            " maxlen target  ext\n",
            "     10  rules TRUE\n",
            "\n",
            "Algorithmic control:\n",
            " filter tree heap memopt load sort verbose\n",
            "    0.1 TRUE TRUE  FALSE TRUE    2    TRUE\n",
            "\n",
            "Absolute minimum support count: 15 \n",
            "\n",
            "set item appearances ...[0 item(s)] done [0.00s].\n",
            "set transactions ...[119 item(s), 7501 transaction(s)] done [0.00s].\n",
            "sorting and recoding items ... [115 item(s)] done [0.00s].\n",
            "creating transaction tree ... done [0.00s].\n",
            "checking subsets of size 1 2 3 4 5 done [0.00s].\n",
            "writing ... [2 rule(s)] done [0.00s].\n",
            "creating S4 object  ... done [0.00s].\n"
          ],
          "name": "stdout"
        },
        {
          "output_type": "display_data",
          "data": {
            "text/plain": [
              "set of 2 rules "
            ]
          },
          "metadata": {
            "tags": []
          }
        }
      ]
    },
    {
      "cell_type": "code",
      "metadata": {
        "id": "KqUygfyq0Li1",
        "outputId": "13238627-9ec4-4aca-9501-42023f247be4",
        "colab": {
          "base_uri": "https://localhost:8080/",
          "height": 398
        }
      },
      "source": [
        "# Building apriori model with Min Support as 0.001 and confidence as 0.6.\n",
        "\n",
        "rules3 <- apriori (Supermarket_dt, parameter = list(supp = 0.001, conf = 0.6)) \n",
        "rules3\n",
        "# When we lower the confidence t0 0.6 the set rules increases to 545"
      ],
      "execution_count": 14,
      "outputs": [
        {
          "output_type": "stream",
          "text": [
            "Apriori\n",
            "\n",
            "Parameter specification:\n",
            " confidence minval smax arem  aval originalSupport maxtime support minlen\n",
            "        0.6    0.1    1 none FALSE            TRUE       5   0.001      1\n",
            " maxlen target  ext\n",
            "     10  rules TRUE\n",
            "\n",
            "Algorithmic control:\n",
            " filter tree heap memopt load sort verbose\n",
            "    0.1 TRUE TRUE  FALSE TRUE    2    TRUE\n",
            "\n",
            "Absolute minimum support count: 7 \n",
            "\n",
            "set item appearances ...[0 item(s)] done [0.00s].\n",
            "set transactions ...[119 item(s), 7501 transaction(s)] done [0.00s].\n",
            "sorting and recoding items ... [116 item(s)] done [0.00s].\n",
            "creating transaction tree ... done [0.00s].\n",
            "checking subsets of size 1 2 3 4 5 6 done [0.01s].\n",
            "writing ... [545 rule(s)] done [0.00s].\n",
            "creating S4 object  ... done [0.00s].\n"
          ],
          "name": "stdout"
        },
        {
          "output_type": "display_data",
          "data": {
            "text/plain": [
              "set of 545 rules "
            ]
          },
          "metadata": {
            "tags": []
          }
        }
      ]
    },
    {
      "cell_type": "code",
      "metadata": {
        "id": "V26wRYQT56Dh",
        "outputId": "160e68ed-f402-4a3e-e4d7-1b95115a2938",
        "colab": {
          "base_uri": "https://localhost:8080/",
          "height": 398
        }
      },
      "source": [
        "# Building apriori model with Min Support as 0.002 and confidence as 0.6.\n",
        "\n",
        "rules4 <- apriori (Supermarket_dt, parameter = list(supp = 0.002, conf = 0.6)) \n",
        "rules4\n",
        "# Increasing the support from 0.001 to 0.002 and maintaining the same confidence at 0.6 the set rules decrease to 43"
      ],
      "execution_count": 15,
      "outputs": [
        {
          "output_type": "stream",
          "text": [
            "Apriori\n",
            "\n",
            "Parameter specification:\n",
            " confidence minval smax arem  aval originalSupport maxtime support minlen\n",
            "        0.6    0.1    1 none FALSE            TRUE       5   0.002      1\n",
            " maxlen target  ext\n",
            "     10  rules TRUE\n",
            "\n",
            "Algorithmic control:\n",
            " filter tree heap memopt load sort verbose\n",
            "    0.1 TRUE TRUE  FALSE TRUE    2    TRUE\n",
            "\n",
            "Absolute minimum support count: 15 \n",
            "\n",
            "set item appearances ...[0 item(s)] done [0.00s].\n",
            "set transactions ...[119 item(s), 7501 transaction(s)] done [0.00s].\n",
            "sorting and recoding items ... [115 item(s)] done [0.00s].\n",
            "creating transaction tree ... done [0.00s].\n",
            "checking subsets of size 1 2 3 4 5 done [0.00s].\n",
            "writing ... [43 rule(s)] done [0.00s].\n",
            "creating S4 object  ... done [0.00s].\n"
          ],
          "name": "stdout"
        },
        {
          "output_type": "display_data",
          "data": {
            "text/plain": [
              "set of 43 rules "
            ]
          },
          "metadata": {
            "tags": []
          }
        }
      ]
    },
    {
      "cell_type": "code",
      "metadata": {
        "id": "oAzpusOt0QXe",
        "outputId": "66133c80-34d7-4327-cef3-0daa773ddc77",
        "colab": {
          "base_uri": "https://localhost:8080/",
          "height": 502
        }
      },
      "source": [
        "# We can perform an exploration of our model \n",
        "# through the use of the summary function as shown\n",
        "\n",
        "# Upon running the code, the function would give us information about the model \n",
        "# i.e. the size of rules, depending on the items that contain these rules. \n",
        "# In our above case, most rules have 3 and 4 items though some rules do have upto 6. \n",
        "# More statistical information such as support, lift and confidence is also provided.\n",
        "\n",
        "summary(rules)"
      ],
      "execution_count": 16,
      "outputs": [
        {
          "output_type": "display_data",
          "data": {
            "text/plain": [
              "set of 74 rules\n",
              "\n",
              "rule length distribution (lhs + rhs):sizes\n",
              " 3  4  5  6 \n",
              "15 42 16  1 \n",
              "\n",
              "   Min. 1st Qu.  Median    Mean 3rd Qu.    Max. \n",
              "  3.000   4.000   4.000   4.041   4.000   6.000 \n",
              "\n",
              "summary of quality measures:\n",
              "    support           confidence        coverage             lift       \n",
              " Min.   :0.001067   Min.   :0.8000   Min.   :0.001067   Min.   : 3.356  \n",
              " 1st Qu.:0.001067   1st Qu.:0.8000   1st Qu.:0.001333   1st Qu.: 3.432  \n",
              " Median :0.001133   Median :0.8333   Median :0.001333   Median : 3.795  \n",
              " Mean   :0.001256   Mean   :0.8504   Mean   :0.001479   Mean   : 4.823  \n",
              " 3rd Qu.:0.001333   3rd Qu.:0.8889   3rd Qu.:0.001600   3rd Qu.: 4.877  \n",
              " Max.   :0.002533   Max.   :1.0000   Max.   :0.002666   Max.   :12.722  \n",
              "     count       \n",
              " Min.   : 8.000  \n",
              " 1st Qu.: 8.000  \n",
              " Median : 8.500  \n",
              " Mean   : 9.419  \n",
              " 3rd Qu.:10.000  \n",
              " Max.   :19.000  \n",
              "\n",
              "mining info:\n",
              "           data ntransactions support confidence\n",
              " Supermarket_dt          7501   0.001        0.8"
            ]
          },
          "metadata": {
            "tags": []
          }
        }
      ]
    },
    {
      "cell_type": "code",
      "metadata": {
        "id": "aq6lcLGa0UDX",
        "outputId": "b3a4a7a0-54ae-4558-b0a9-4c5a7d9812fe",
        "colab": {
          "base_uri": "https://localhost:8080/"
        }
      },
      "source": [
        "# Observing rules built in our model i.e. first 5 model rules\n",
        "# \n",
        "inspect(rules[1:5])\n",
        "\n",
        "\n",
        "# Interpretation of the first rule:\n",
        "# ---\n",
        "# If someone buys liquor and red/blush wine, they are 90% likely to buy bottled beer too"
      ],
      "execution_count": 17,
      "outputs": [
        {
          "output_type": "stream",
          "text": [
            "    lhs                             rhs             support     confidence\n",
            "[1] {frozen smoothie,spinach}    => {mineral water} 0.001066524 0.8888889 \n",
            "[2] {bacon,pancakes}             => {spaghetti}     0.001733102 0.8125000 \n",
            "[3] {nonfat milk,turkey}         => {mineral water} 0.001199840 0.8181818 \n",
            "[4] {ground beef,nonfat milk}    => {mineral water} 0.001599787 0.8571429 \n",
            "[5] {mushroom cream sauce,pasta} => {escalope}      0.002532996 0.9500000 \n",
            "    coverage    lift      count\n",
            "[1] 0.001199840  3.729058  8   \n",
            "[2] 0.002133049  4.666587 13   \n",
            "[3] 0.001466471  3.432428  9   \n",
            "[4] 0.001866418  3.595877 12   \n",
            "[5] 0.002666311 11.976387 19   \n"
          ],
          "name": "stdout"
        }
      ]
    },
    {
      "cell_type": "code",
      "metadata": {
        "id": "iiCmbnxM0Zg4",
        "outputId": "19de413e-a90f-4416-a3f8-1edc218e78bd",
        "colab": {
          "base_uri": "https://localhost:8080/"
        }
      },
      "source": [
        "# Ordering these rules by a criteria such as the level of confidence\n",
        "# then looking at the first five rules.\n",
        "# We can also use different criteria such as: (by = \"lift\" or by = \"support\")\n",
        "# \n",
        "rules <- sort(rules, by=\"confidence\", decreasing=TRUE)\n",
        "inspect(rules[1:5])\n",
        "\n",
        "# Interpretation\n",
        "# ---\n",
        "# The given five rules have a confidence of 100"
      ],
      "execution_count": 18,
      "outputs": [
        {
          "output_type": "stream",
          "text": [
            "    lhs                                          rhs             support    \n",
            "[1] {french fries,mushroom cream sauce,pasta} => {escalope}      0.001066524\n",
            "[2] {ground beef,light cream,olive oil}       => {mineral water} 0.001199840\n",
            "[3] {cake,meatballs,mineral water}            => {milk}          0.001066524\n",
            "[4] {cake,olive oil,shrimp}                   => {mineral water} 0.001199840\n",
            "[5] {mushroom cream sauce,pasta}              => {escalope}      0.002532996\n",
            "    confidence coverage    lift      count\n",
            "[1] 1.00       0.001066524 12.606723  8   \n",
            "[2] 1.00       0.001199840  4.195190  9   \n",
            "[3] 1.00       0.001066524  7.717078  8   \n",
            "[4] 1.00       0.001199840  4.195190  9   \n",
            "[5] 0.95       0.002666311 11.976387 19   \n"
          ],
          "name": "stdout"
        }
      ]
    },
    {
      "cell_type": "code",
      "metadata": {
        "id": "xs6jbls70qnH",
        "outputId": "029a6db8-75a7-49c3-fe77-178747785f0c",
        "colab": {
          "base_uri": "https://localhost:8080/"
        }
      },
      "source": [
        "# If we're interested in making a promotion relating to the sale of milk, \n",
        "# we could create a subset of rules concerning these products \n",
        "# ---\n",
        "# This would tell us the items that the customers bought before purchasing milk\n",
        "# ---\n",
        "# \n",
        "milk <- subset(rules, subset = rhs %pin% \"milk\")\n",
        " \n",
        "# Then order by confidence\n",
        "milk <- sort(milk, by=\"confidence\", decreasing=TRUE)\n",
        "inspect(milk[1:5])"
      ],
      "execution_count": 19,
      "outputs": [
        {
          "output_type": "stream",
          "text": [
            "    lhs                                  rhs    support     confidence\n",
            "[1] {cake,meatballs,mineral water}    => {milk} 0.001066524 1.0000000 \n",
            "[2] {escalope,hot dogs,mineral water} => {milk} 0.001066524 0.8888889 \n",
            "[3] {meatballs,whole wheat pasta}     => {milk} 0.001333156 0.8333333 \n",
            "[4] {black tea,frozen smoothie}       => {milk} 0.001199840 0.8181818 \n",
            "[5] {burgers,ground beef,olive oil}   => {milk} 0.001066524 0.8000000 \n",
            "    coverage    lift     count\n",
            "[1] 0.001066524 7.717078  8   \n",
            "[2] 0.001199840 6.859625  8   \n",
            "[3] 0.001599787 6.430898 10   \n",
            "[4] 0.001466471 6.313973  9   \n",
            "[5] 0.001333156 6.173663  8   \n"
          ],
          "name": "stdout"
        }
      ]
    },
    {
      "cell_type": "code",
      "metadata": {
        "id": "SVO-pwGr1Y7t",
        "outputId": "db2004e4-a70b-4ce8-ccd6-5fb17fc0c022",
        "colab": {
          "base_uri": "https://localhost:8080/"
        }
      },
      "source": [
        "# What if we wanted to determine items that customers might buy \n",
        "# who have previously bought milk?\n",
        "# ---\n",
        "# \n",
        "# Subset the rules\n",
        "milk <- subset(rules, subset = lhs %pin% \"milk\")\n",
        "\n",
        "# Order by confidence\n",
        "milk <- sort(milk, by=\"confidence\", decreasing=TRUE)\n",
        "\n",
        "# inspect top 5\n",
        "inspect(milk[15:19])"
      ],
      "execution_count": 20,
      "outputs": [
        {
          "output_type": "stream",
          "text": [
            "    lhs                                rhs             support     confidence\n",
            "[1] {chocolate,hot dogs,milk}       => {mineral water} 0.001066524 0.8       \n",
            "[2] {avocado,burgers,milk}          => {spaghetti}     0.001066524 0.8       \n",
            "[3] {cookies,green tea,milk}        => {french fries}  0.001066524 0.8       \n",
            "[4] {cake,eggs,milk,turkey}         => {mineral water} 0.001066524 0.8       \n",
            "[5] {chocolate,eggs,milk,olive oil} => {mineral water} 0.001066524 0.8       \n",
            "    coverage    lift     count\n",
            "[1] 0.001333156 3.356152 8    \n",
            "[2] 0.001333156 4.594793 8    \n",
            "[3] 0.001333156 4.680811 8    \n",
            "[4] 0.001333156 3.356152 8    \n",
            "[5] 0.001333156 3.356152 8    \n"
          ],
          "name": "stdout"
        }
      ]
    },
    {
      "cell_type": "markdown",
      "metadata": {
        "id": "xD6KcbDI8kP_"
      },
      "source": [
        "# Conclusion"
      ]
    },
    {
      "cell_type": "markdown",
      "metadata": {
        "id": "hh9Gyieu8uQu"
      },
      "source": [
        "* Loading the dataset with the transactions package automatically cleans the data and provides a dataset with 7501 unique rows and 119 columns\n",
        "* The most purchased list item is; \n",
        "-- {almonds, antioxydant juice, avocado, cottage cheese, energy drink, frozen smoothie, green grapes, green tea, honey, low fat yogurt, mineral water, olive oil, salad, salmon, shrimp, spinach, juice, vegetables mix, whole weat flour, yams} \n",
        "* Most frequent purchased items are; mineral water, eggs, spaghetti, french fries and chocolate "
      ]
    },
    {
      "cell_type": "markdown",
      "metadata": {
        "id": "WeY3vUsi-Ofr"
      },
      "source": [
        "* Using Min Support as 0.001 and confidence as 0.8 the set rules are 74.\n",
        "* Using Min Support as 0.002 and confidence as 0.8 the set rules are 2.\n",
        "* Using Min Support as 0.001 and confidence as 0.6 the set rules are 545. \n",
        "* Using Min Support as 0.002 and confidence as 0.6 the set rules are 43.\n",
        "-- We can conclude that maintaing the same confidence and increasing the min support decreases the set rules\n",
        "-- We can conclude that maintaing the same min support and decreasing the confidence the set rules increases."
      ]
    }
  ]
}